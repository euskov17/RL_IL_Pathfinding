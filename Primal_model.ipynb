{
 "cells": [
  {
   "cell_type": "code",
   "execution_count": 8,
   "id": "dc17958a",
   "metadata": {},
   "outputs": [],
   "source": [
    "import nbimporter\n",
    "import torch\n",
    "import torch.nn as nn\n",
    "import torch.functional as f\n",
    "\n",
    "import numpy as np\n",
    "import matplotlib.pyplot as plt\n",
    "\n",
    "from tqdm import trange\n",
    "from IPython.display import clear_output\n",
    "from torch.optim import Adam\n",
    "from pogema_env import My_env"
   ]
  },
  {
   "cell_type": "code",
   "execution_count": 2,
   "id": "629403e5",
   "metadata": {},
   "outputs": [],
   "source": [
    "kernel_size = 3\n",
    "padding = 1\n",
    "in_ch = 3\n",
    "hidden_sizes = [128, 128, 128, 256, 256, 128]\n",
    "n_actions = 5"
   ]
  },
  {
   "cell_type": "code",
   "execution_count": 3,
   "id": "637fe663",
   "metadata": {},
   "outputs": [],
   "source": [
    "class Primal_network(nn.Module):\n",
    "    def __init__(self, n_actions=n_actions, epsilon=0):\n",
    "        super().__init__()\n",
    "        self.epsilon = epsilon\n",
    "        self.n_action = n_actions\n",
    "        \n",
    "        self.conv_layers = nn.Sequential(\n",
    "            nn.Conv2d(in_channels=in_ch, out_channels=hidden_sizes[0], kernel_size=kernel_size, padding=1),\n",
    "            nn.Conv2d(in_channels=hidden_sizes[0], out_channels=hidden_sizes[1], kernel_size=kernel_size, padding=1),\n",
    "            nn.Conv2d(in_channels=hidden_sizes[1], out_channels=hidden_sizes[2], kernel_size=kernel_size, padding=1),\n",
    "        )\n",
    "        \n",
    "        self.max_pool = nn.MaxPool2d(kernel_size=2)\n",
    "        \n",
    "        self.next_layers = nn.Sequential(\n",
    "            nn.Conv2d(in_channels=hidden_sizes[2], out_channels=hidden_sizes[3], kernel_size=kernel_size, padding=1),\n",
    "            nn.Conv2d(in_channels=hidden_sizes[3], out_channels=hidden_sizes[4], kernel_size=kernel_size, padding=1),\n",
    "            nn.Conv2d(in_channels=hidden_sizes[4], out_channels=hidden_sizes[5], kernel_size=kernel_size, padding=1),\n",
    "            nn.MaxPool2d(kernel_size=2),\n",
    "            nn.Conv2d(in_channels=hidden_sizes[5], out_channels=512, kernel_size=2)\n",
    "        )\n",
    "        \n",
    "        self.linear = nn.Sequential(\n",
    "            nn.Linear(512, 512),\n",
    "            nn.ReLU(),\n",
    "            nn.Linear(512, 512)\n",
    "        )\n",
    "        \n",
    "        self.lstm = nn.LSTM(512 * 2, 512)\n",
    "        self.relu = nn.ReLU()\n",
    "        self.fc = nn.Linear(512, n_actions + 2)\n",
    "        \n",
    "    def forward(self, input_):\n",
    "        print(\"input.shape = \", input_.shape)\n",
    "        out_res = self.conv_layers(input_)\n",
    "        print(\"First_conv = \", out_res.shape)\n",
    "        out_res = self.max_pool(out_res)\n",
    "        print(\"Max_pool = \", out_res.shape)\n",
    "        out_res = self.next_layers(out_res)\n",
    "        out_res.squeeze_()\n",
    "        print(\"Second conv = \", out_res.shape)\n",
    "        out = self.linear(out_res)\n",
    "        print(\"After_linear = \", out.shape)\n",
    "        \n",
    "        concat = torch.concatenate((out, out_res), dim=-1)\n",
    "        print(\"concatination = \", concat.shape)\n",
    "        lstm_input = self.relu(concat)\n",
    "        print(lstm_input.shape)\n",
    "        out, (_ , _) = self.lstm(lstm_input)\n",
    "        print(\"LSTM = \", out.shape)\n",
    "        return self.fc(out)"
   ]
  },
  {
   "cell_type": "code",
   "execution_count": 4,
   "id": "a608bd85",
   "metadata": {},
   "outputs": [],
   "source": [
    "pr = Primal_network()"
   ]
  },
  {
   "cell_type": "code",
   "execution_count": 5,
   "id": "145bd682",
   "metadata": {},
   "outputs": [
    {
     "data": {
      "text/plain": [
       "(torch.Size([5, 3, 11, 11]), 128, 3)"
      ]
     },
     "execution_count": 5,
     "metadata": {},
     "output_type": "execute_result"
    }
   ],
   "source": [
    "inp = torch.ones(5, 3, 11, 11)\n",
    "inp.shape, hidden_sizes[0], in_ch"
   ]
  },
  {
   "cell_type": "code",
   "execution_count": 6,
   "id": "1e75675a",
   "metadata": {},
   "outputs": [
    {
     "name": "stdout",
     "output_type": "stream",
     "text": [
      "input.shape =  torch.Size([5, 3, 11, 11])\n",
      "First_conv =  torch.Size([5, 128, 11, 11])\n",
      "Max_pool =  torch.Size([5, 128, 5, 5])\n",
      "Second conv =  torch.Size([5, 512])\n",
      "After_linear =  torch.Size([5, 512])\n",
      "concatination =  torch.Size([5, 1024])\n",
      "torch.Size([5, 1024])\n",
      "LSTM =  torch.Size([5, 512])\n"
     ]
    },
    {
     "data": {
      "text/plain": [
       "tensor([[ 0.0135,  0.0152, -0.0317,  0.0415, -0.0085, -0.0490,  0.0177],\n",
       "        [ 0.0112,  0.0171, -0.0333,  0.0472, -0.0092, -0.0573,  0.0231],\n",
       "        [ 0.0104,  0.0181, -0.0355,  0.0508, -0.0086, -0.0617,  0.0260],\n",
       "        [ 0.0102,  0.0187, -0.0374,  0.0532, -0.0076, -0.0641,  0.0275],\n",
       "        [ 0.0102,  0.0190, -0.0387,  0.0548, -0.0068, -0.0652,  0.0283]],\n",
       "       grad_fn=<AddmmBackward0>)"
      ]
     },
     "execution_count": 6,
     "metadata": {},
     "output_type": "execute_result"
    }
   ],
   "source": [
    "pr(inp)"
   ]
  },
  {
   "cell_type": "code",
   "execution_count": 9,
   "id": "034b1680",
   "metadata": {},
   "outputs": [],
   "source": [
    "def backward_reward(reward, is_done, gamma=0.99):\n",
    "    ln, time = rewards.shape[:-2]\n",
    "    result = rewards[:, -1]\n",
    "    \n",
    "    for t in range(time - 2, -1, -1):\n",
    "        result[:, t] = reward[:, t] + gamma * (1 - is_done[:, t]) * result[:, t+1] \n",
    "    \n",
    "    return result"
   ]
  },
  {
   "cell_type": "code",
   "execution_count": null,
   "id": "3c0942a2",
   "metadata": {},
   "outputs": [],
   "source": [
    "def compute_loss(s, action, reward, next_s, is_done):\n",
    "    s = torch.Tensor(s)\n",
    "    action = torch.Tensor(action)\n",
    "    next_s = torch.Tensor(next_s)\n",
    "    reward = torch.Tensor(reward)\n",
    "    is_done = torch.Tensor(is_done)\n",
    "    \n",
    "    reward = "
   ]
  },
  {
   "cell_type": "code",
   "execution_count": 7,
   "id": "da7365f1",
   "metadata": {},
   "outputs": [
    {
     "ename": "NameError",
     "evalue": "name 'policy' is not defined",
     "output_type": "error",
     "traceback": [
      "\u001b[1;31m---------------------------------------------------------------------------\u001b[0m",
      "\u001b[1;31mNameError\u001b[0m                                 Traceback (most recent call last)",
      "Cell \u001b[1;32mIn[7], line 1\u001b[0m\n\u001b[1;32m----> 1\u001b[0m primal \u001b[38;5;241m=\u001b[39m Primal_network(\u001b[43mpolicy\u001b[49m, optimizer)\n\u001b[0;32m      2\u001b[0m optimizer \u001b[38;5;241m=\u001b[39m  Adam(pr\u001b[38;5;241m.\u001b[39mparameters(), lr\u001b[38;5;241m=\u001b[39m\u001b[38;5;241m7e-4\u001b[39m, eps\u001b[38;5;241m=\u001b[39m\u001b[38;5;241m1e-5\u001b[39m)\n\u001b[0;32m      4\u001b[0m state \u001b[38;5;241m=\u001b[39m env\u001b[38;5;241m.\u001b[39mreset()\n",
      "\u001b[1;31mNameError\u001b[0m: name 'policy' is not defined"
     ]
    }
   ],
   "source": [
    "primal = Primal_network(policy, optimizer)\n",
    "optimizer =  Adam(pr.parameters(), lr=7e-4, eps=1e-5)\n",
    "\n",
    "state = My_env.reset()\n",
    "\n",
    "step = 0\n",
    "total_steps = 10 ** 7\n",
    "\n",
    "with trange(step, total_steps + 1, 40) as progress_bar:\n",
    "    for step in progress_bar:\n",
    "        # play\n",
    "        trajectory = runner.get_next()\n",
    "\n",
    "\n",
    "        NumpySummaries.set_step(runner.step_var)\n",
    "        # train\n",
    "        if step % 50 == 0:\n",
    "            policy_loss, entropy, advatages = a2c.policy_loss(trajectory)\n",
    "            value_loss = a2c.value_loss(trajectory)\n",
    "            loss_ = a2c.loss(trajectory)\n",
    "            \n",
    "            env.add_summary_scalar('policy_loss', policy_loss.item())\n",
    "            env.add_summary_scalar('value_loss', value_loss.item())\n",
    "            env.add_summary_scalar('loss', loss_.item())\n",
    "            env.add_summary_scalar('entropy', entropy.item())\n",
    "            env.add_summary_scalar('advatages', advatages.item())\n",
    "\n",
    "            mean_reward = NumpySummaries.get_values(\"SpaceInvadersNoFrameskip-v4/reward_mean_100\")\n",
    "            policy_loss_history = NumpySummaries.get_values(\"policy_loss\")\n",
    "            value_loss_history = NumpySummaries.get_values(\"value_loss\")\n",
    "            loss_history = NumpySummaries.get_values(\"loss\")\n",
    "            entropy_history = NumpySummaries.get_values(\"entropy\")\n",
    "            advatages_history = NumpySummaries.get_values(\"advatages\")\n",
    "\n",
    "        a2c.step(trajectory)\n",
    "        scheduler.step()\n",
    "\n",
    "        with torch.no_grad():\n",
    "            if step % 1000 == 0:\n",
    "                clear_output()\n",
    "                plt.figure(figsize=[16, 9])\n",
    "\n",
    "                plt.subplot(2, 3, 1)\n",
    "                plt.title(\"Mean reward per life\")\n",
    "                plt.plot([m[1] for m in mean_reward])\n",
    "                plt.grid()\n",
    "\n",
    "                plt.subplot(2, 3, 2)\n",
    "                plt.title(\"loss_history\")\n",
    "                plt.plot([m[1] for m in loss_history])\n",
    "                plt.grid()\n",
    "                \n",
    "                plt.subplot(2, 3, 3)\n",
    "                plt.title(\"policy_loss_history\")\n",
    "                plt.plot([m[1] for m in policy_loss_history])\n",
    "\n",
    "                plt.grid()\n",
    "\n",
    "                plt.subplot(2, 3, 4)\n",
    "                plt.title(\"value_loss_history\")\n",
    "                plt.plot([m[1] for m in value_loss_history])\n",
    "                plt.grid()\n",
    "\n",
    "                plt.subplot(2, 3, 5)\n",
    "                plt.title(\"entropy_history\")\n",
    "                plt.plot([m[1] for m in entropy_history])\n",
    "                plt.grid()\n",
    "\n",
    "                plt.subplot(2, 3, 6)\n",
    "                plt.title(\"advatages_history\")\n",
    "                plt.plot([m[1] for m in advatages_history])\n",
    "                plt.grid()\n",
    "                \n",
    "\n",
    "                plt.show()"
   ]
  },
  {
   "cell_type": "code",
   "execution_count": null,
   "id": "74098d73",
   "metadata": {},
   "outputs": [],
   "source": []
  },
  {
   "cell_type": "code",
   "execution_count": null,
   "id": "deec95af",
   "metadata": {},
   "outputs": [],
   "source": []
  }
 ],
 "metadata": {
  "kernelspec": {
   "display_name": "Python 3 (ipykernel)",
   "language": "python",
   "name": "python3"
  },
  "language_info": {
   "codemirror_mode": {
    "name": "ipython",
    "version": 3
   },
   "file_extension": ".py",
   "mimetype": "text/x-python",
   "name": "python",
   "nbconvert_exporter": "python",
   "pygments_lexer": "ipython3",
   "version": "3.9.16"
  }
 },
 "nbformat": 4,
 "nbformat_minor": 5
}
